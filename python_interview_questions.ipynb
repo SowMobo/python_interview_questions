{
 "cells": [
  {
   "cell_type": "code",
   "execution_count": null,
   "metadata": {},
   "outputs": [],
   "source": []
  }
 ],
 "metadata": {
  "interpreter": {
   "hash": "248435a3b565922acd7df61926d5c7e09c49127aa6ab49500e17346036604897"
  },
  "kernelspec": {
   "display_name": "Python 3.9.5 64-bit ('intvQ': venv)",
   "language": "python",
   "name": "python3"
  },
  "language_info": {
   "name": "python",
   "version": "3.9.5"
  },
  "orig_nbformat": 4
 },
 "nbformat": 4,
 "nbformat_minor": 2
}
