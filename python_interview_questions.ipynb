{
 "cells": [
  {
   "cell_type": "markdown",
   "metadata": {},
   "source": [
    "# Check if list contains integer x"
   ]
  },
  {
   "cell_type": "code",
   "execution_count": 2,
   "metadata": {},
   "outputs": [
    {
     "name": "stdout",
     "output_type": "stream",
     "text": [
      "True\n"
     ]
    }
   ],
   "source": [
    "l = [3, 3, 4, 5, 2, 111, 5]\n",
    "print(111 in l)"
   ]
  },
  {
   "cell_type": "markdown",
   "metadata": {},
   "source": [
    "# Find duplicate number in integer list"
   ]
  },
  {
   "cell_type": "code",
   "execution_count": 3,
   "metadata": {},
   "outputs": [],
   "source": [
    "def find_duplicates(elements):\n",
    "    duplicates, seen = set(), set()\n",
    "    for element in elements:\n",
    "        if element in seen:\n",
    "            duplicates.add(element)\n",
    "        seen.add(element)\n",
    "    return list(duplicates)"
   ]
  },
  {
   "cell_type": "code",
   "execution_count": 10,
   "metadata": {},
   "outputs": [
    {
     "name": "stdout",
     "output_type": "stream",
     "text": [
      "[3, 5]\n"
     ]
    }
   ],
   "source": [
    "my_list = [3, 3, 4, 5, 2, 111, 5, 5, 6]\n",
    "print(find_duplicates(my_list))\n"
   ]
  },
  {
   "cell_type": "markdown",
   "metadata": {},
   "source": [
    "# Check if two strings are anagrams "
   ]
  },
  {
   "cell_type": "code",
   "execution_count": 6,
   "metadata": {},
   "outputs": [
    {
     "name": "stdout",
     "output_type": "stream",
     "text": [
      "True\n"
     ]
    }
   ],
   "source": [
    "def is_anagram(s1, s2):\n",
    "    return set(s1) == set(s2)\n",
    "print(is_anagram(\"elvis\", \"lives\"))"
   ]
  },
  {
   "cell_type": "markdown",
   "metadata": {},
   "source": [
    "# Remove all duplicates from list"
   ]
  },
  {
   "cell_type": "code",
   "execution_count": 7,
   "metadata": {},
   "outputs": [
    {
     "name": "stdout",
     "output_type": "stream",
     "text": [
      "[0, 1, 2, 3, 4, 5, 6, 7, 8, 9]\n"
     ]
    }
   ],
   "source": [
    "lst = list(range(10)) + list(range(10))\n",
    "lst = list(set(lst))\n",
    "print(lst)"
   ]
  },
  {
   "cell_type": "markdown",
   "metadata": {},
   "source": [
    "# Find pairs of integers in list so that their sum is equal to integer x"
   ]
  },
  {
   "cell_type": "code",
   "execution_count": 9,
   "metadata": {},
   "outputs": [
    {
     "data": {
      "text/plain": [
       "[(0, 'Alice'), (1, 'Bob'), (2, 'John')]"
      ]
     },
     "execution_count": 9,
     "metadata": {},
     "output_type": "execute_result"
    }
   ],
   "source": [
    "list(enumerate([\"Alice\", \"Bob\", \"John\"]))"
   ]
  },
  {
   "cell_type": "code",
   "execution_count": 11,
   "metadata": {},
   "outputs": [],
   "source": [
    "def find_pairs(l, x):\n",
    "    pairs = []\n",
    "    for(i, el_1) in enumerate(l):\n",
    "        for(j, el_2) in enumerate(l[i+1:]):\n",
    "            if el_1 + el_2 == x:\n",
    "                pairs.append((el_1, el_2))\n",
    "    return pairs\n"
   ]
  },
  {
   "cell_type": "code",
   "execution_count": 13,
   "metadata": {},
   "outputs": [
    {
     "name": "stdout",
     "output_type": "stream",
     "text": [
      "[(3, 3), (4, 2)]\n"
     ]
    }
   ],
   "source": [
    "# Test \n",
    "print(find_pairs(my_list, 6))"
   ]
  },
  {
   "cell_type": "markdown",
   "metadata": {},
   "source": [
    "# Check if a string is a palindrome"
   ]
  },
  {
   "cell_type": "code",
   "execution_count": 15,
   "metadata": {},
   "outputs": [
    {
     "name": "stdout",
     "output_type": "stream",
     "text": [
      "True\n"
     ]
    }
   ],
   "source": [
    "def is_palindrome(phrase):\n",
    "    return phrase == phrase[::-1]\n",
    "print(is_palindrome(\"anna\"))\n",
    "\n"
   ]
  },
  {
   "cell_type": "code",
   "execution_count": 16,
   "metadata": {},
   "outputs": [
    {
     "name": "stdout",
     "output_type": "stream",
     "text": [
      "[6, 5, 5, 111, 2, 5, 4, 3, 3]\n"
     ]
    }
   ],
   "source": [
    "print(my_list[::-1])"
   ]
  },
  {
   "cell_type": "markdown",
   "metadata": {},
   "source": [
    "# Use list as stack, array, and queue"
   ]
  },
  {
   "cell_type": "code",
   "execution_count": 17,
   "metadata": {},
   "outputs": [
    {
     "name": "stdout",
     "output_type": "stream",
     "text": [
      "[3, 4, 5, 6]\n"
     ]
    }
   ],
   "source": [
    "# as a list\n",
    "l = [3, 4]\n",
    "l += [5, 6]\n",
    "print(l)"
   ]
  },
  {
   "cell_type": "code",
   "execution_count": 18,
   "metadata": {},
   "outputs": [
    {
     "name": "stdout",
     "output_type": "stream",
     "text": [
      "[3, 4, 5, 6, 10]\n"
     ]
    }
   ],
   "source": [
    "# as a stack\n",
    "l.append(10)\n",
    "print(l)\n"
   ]
  },
  {
   "cell_type": "code",
   "execution_count": 19,
   "metadata": {},
   "outputs": [
    {
     "name": "stdout",
     "output_type": "stream",
     "text": [
      "[5, 3, 4, 5, 6, 10]\n",
      "[5, 3, 4, 5, 6]\n"
     ]
    }
   ],
   "source": [
    "# as a queue\n",
    "l.insert(0, 5)\n",
    "print(l)\n",
    "l.pop()\n",
    "print(l)"
   ]
  },
  {
   "cell_type": "markdown",
   "metadata": {},
   "source": [
    "# Compute the intersection of two lists"
   ]
  },
  {
   "cell_type": "code",
   "execution_count": 25,
   "metadata": {},
   "outputs": [
    {
     "name": "stdout",
     "output_type": "stream",
     "text": [
      "[3, 3, 4, 5, 2, 111, 5, 5, 6]\n",
      "[1, 2, 3, 4, 6, 7, 8, 9]\n",
      "[3, 4, 2, 6]\n"
     ]
    }
   ],
   "source": [
    "def intersect(list1, list2):\n",
    "    res, list2_copy = [], list2[:]\n",
    "    for el in list1:\n",
    "        if el in list2_copy:\n",
    "            res.append(el)\n",
    "            list2_copy.remove(el)\n",
    "    return res\n",
    "print(my_list)\n",
    "print(l)\n",
    "print(intersect(my_list, l))"
   ]
  },
  {
   "cell_type": "markdown",
   "metadata": {},
   "source": [
    "# Find max and min in unsorted list"
   ]
  },
  {
   "cell_type": "code",
   "execution_count": 26,
   "metadata": {},
   "outputs": [
    {
     "name": "stdout",
     "output_type": "stream",
     "text": [
      "111\n",
      "2\n"
     ]
    }
   ],
   "source": [
    "print(max(my_list))\n",
    "print(min(my_list))\n"
   ]
  },
  {
   "cell_type": "markdown",
   "metadata": {},
   "source": [
    "# Reverse string using recursion"
   ]
  },
  {
   "cell_type": "code",
   "execution_count": 28,
   "metadata": {},
   "outputs": [
    {
     "name": "stdout",
     "output_type": "stream",
     "text": [
      "olleh\n"
     ]
    }
   ],
   "source": [
    "def reverse(string):\n",
    "    if len(string)<= 1:\n",
    "        return string\n",
    "    return reverse(string[1:])+ string[0]\n",
    "print(reverse(\"hello\"))"
   ]
  },
  {
   "cell_type": "markdown",
   "metadata": {},
   "source": [
    "# Sort list with Quicksort algorithm"
   ]
  },
  {
   "cell_type": "code",
   "execution_count": 31,
   "metadata": {},
   "outputs": [
    {
     "name": "stdout",
     "output_type": "stream",
     "text": [
      "[2, 3, 3, 4, 5, 5, 5, 6, 111]\n"
     ]
    }
   ],
   "source": [
    "def qsort(lst):\n",
    "    if lst == []: return []\n",
    "    return qsort([x for x in lst[1:] if x < lst[0]]) + lst[0:1] + qsort([x for x in lst[1:] if x >=lst[0]])\n",
    "print(qsort(my_list))"
   ]
  },
  {
   "cell_type": "markdown",
   "metadata": {},
   "source": [
    "# Find all permutation s of string"
   ]
  },
  {
   "cell_type": "code",
   "execution_count": 34,
   "metadata": {},
   "outputs": [
    {
     "name": "stdout",
     "output_type": "stream",
     "text": [
      "{'nan', 'ann', 'nna'}\n"
     ]
    }
   ],
   "source": [
    "def get_permutations(str):\n",
    "    if len(str) == 1: return set(str)\n",
    "    smaller = get_permutations(str[1:])\n",
    "    perms = set()\n",
    "    for x in smaller:\n",
    "        for pos in range(0, len(x)+1):\n",
    "            perm = x[:pos] + str[0] + x[pos:]\n",
    "            perms.add(perm)\n",
    "    return perms\n",
    "print(get_permutations(\"nan\"))"
   ]
  },
  {
   "cell_type": "markdown",
   "metadata": {},
   "source": [
    "# Compute the first n Fibonacci numbers"
   ]
  },
  {
   "cell_type": "code",
   "execution_count": 35,
   "metadata": {},
   "outputs": [
    {
     "name": "stdout",
     "output_type": "stream",
     "text": [
      "1\n",
      "1\n",
      "2\n",
      "3\n",
      "5\n",
      "8\n",
      "13\n",
      "21\n",
      "34\n",
      "55\n"
     ]
    }
   ],
   "source": [
    "a, b = 0, 1\n",
    "n = 10\n",
    "for i in range(n):\n",
    "    print(b)\n",
    "    a,b = b, a+b\n"
   ]
  }
 ],
 "metadata": {
  "interpreter": {
   "hash": "248435a3b565922acd7df61926d5c7e09c49127aa6ab49500e17346036604897"
  },
  "kernelspec": {
   "display_name": "Python 3.9.5 64-bit ('intvQ': venv)",
   "language": "python",
   "name": "python3"
  },
  "language_info": {
   "codemirror_mode": {
    "name": "ipython",
    "version": 3
   },
   "file_extension": ".py",
   "mimetype": "text/x-python",
   "name": "python",
   "nbconvert_exporter": "python",
   "pygments_lexer": "ipython3",
   "version": "3.9.5"
  },
  "orig_nbformat": 4
 },
 "nbformat": 4,
 "nbformat_minor": 2
}
